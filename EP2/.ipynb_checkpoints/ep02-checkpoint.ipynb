{
 "cells": [
  {
   "cell_type": "markdown",
   "metadata": {
    "colab_type": "text",
    "id": "h7Z4JZ6OWbvS"
   },
   "source": [
    "# Relatorio EP2\n"
   ]
  },
  {
   "cell_type": "markdown",
   "metadata": {
    "colab_type": "text",
    "id": "NI7RKB91Wbvb"
   },
   "source": [
    "## Introdução\n",
    "\n",
    "   Neste relatório examinamos três formas de movimento 2D: o Movimento de um Pêndulo Simples, O Movimento Circular em Plano Horizontal e .Tentaremos estimar, a partir do nosso conhecimento prévio sobre as caracteristicas desses movimentos, equações que modelem os dados experimentais adequadamente.\n",
    "   \n",
    "   Os experimentos foram realizados no laboratório de demonstrações no Instituto de Física, da seguinte maneira : Para o Pendulo, prendemos o celular na haste de um pêndulo no , e medimos sua aceleração por meio do acelerometro. Para o Plano Horizontal, prendemos uma haste de metal a uma cadeira giratória , com o celular amarrado a ponta, e medimos o tempo a cada meia volta. \n",
    "   \n",
    "   Todas as medidas relevantes foram tomadas e serão apresentadas nas respectivas seções. Cada medição foi realizada repetidas, vezes como exigido no enunciado."
   ]
  },
  {
   "cell_type": "markdown",
   "metadata": {
    "colab_type": "text",
    "id": "nAenDK6xc3ss"
   },
   "source": [
    "# Pendulo Simples\n"
   ]
  },
  {
   "cell_type": "markdown",
   "metadata": {
    "colab_type": "text",
    "id": "Hpz7i14TWbvf"
   },
   "source": [
    "## Método\n",
    "\n",
    "   Para esse experimento, utilizamos um pêndulo já presente no laboratório. O celular foi preso na parte final no pêndulo de maneira a ficar alinhado verticalmente com a haste. As medições foram feitas ao se levantar o pêndulo em uma angulação  pré-determinada (10 graus) do repouso, que foi medida com *INSTRUMENTO DE MEDIÇÃO DE ANGULO*.\n",
    "  \n",
    "  Esperamos 5 segundos com o pêndulo parado na posição inclinada especial para termos uma base de comparação, soltamos o celular e deixamos o pêndulo realizar 5 oscilações, depois das quais pausamos o movimento no ponto mais baixo da oscilação, sem angulação da haste.\n",
    "  \n",
    "  Uma pessoa segurava o celular na posição inicial e o soltava, enquanto outra manuseava o celular e uma outra filmava o experimento.\n",
    "  \n",
    "  O experimento foi realizado 5 vezes, para eliminar inconsistências."
   ]
  },
  {
   "cell_type": "markdown",
   "metadata": {
    "colab_type": "text",
    "id": "mssHomqFWbvr"
   },
   "source": [
    "## Dados\n",
    "\n"
   ]
  },
  {
   "cell_type": "markdown",
   "metadata": {
    "colab_type": "text",
    "id": "a54bYh5jWbvi"
   },
   "source": [
    "## Verificação\n",
    "\n",
    "Todas as funções assumem que\n",
    "\n",
    "\n",
    "\n"
   ]
  },
  {
   "cell_type": "markdown",
   "metadata": {
    "colab_type": "text",
    "id": "LscwR-N6nGiZ"
   },
   "source": [
    "## Análise"
   ]
  },
  {
   "cell_type": "markdown",
   "metadata": {
    "colab_type": "text",
    "id": "tGBMf5OZnJtj"
   },
   "source": [
    "## Interpretação\n"
   ]
  },
  {
   "cell_type": "markdown",
   "metadata": {
    "colab_type": "text",
    "id": "wRwTf0CrdIUL"
   },
   "source": [
    "# Movimento Circular em Plano Horizontal\n"
   ]
  },
  {
   "cell_type": "markdown",
   "metadata": {
    "colab_type": "text",
    "id": "qnOWab28hl0l"
   },
   "source": [
    "## Método\n",
    "\n",
    "Para esse experimento, utilizamos um banco que girava em sua própria base,já presente no laboratório. Uma haste de metal foi presa ao banco, que funcionava como uma extensão do seu raio, e o celular foi preso à ponta dessa haste. Isso foi feito para que a velocidade angular tivesse um módulo maior, e portanto suas variações fossem captadas mais fácilmente. \n",
    "\n",
    "As medições foram feitas ao se colocar o \"braço\" da cadeira sobre uma marca no chão delimitando a posição inicial, se aplicava uma força inicial que iniciava o movimento. Outra marca no chão delimitava \"meia volta\" a partir da primeira marca, e pessoas nessas duas marcações cronometravam quando o braço passava por essas marcas.\n",
    "\n",
    "Esperamos 5 segundos com o braço parado na posição inclinada especial para termos uma base de comparação, e deixamos o celular concluir 3 rotações antes de interromper o movimento.\n",
    "\n",
    "Para que a força inicial fosse sempre a mesma, amarramos um elástico em outro banco, que ficava a uma distância fixa do ponto inicial do celular, e aplicava uma força perpendicular a haste, no mesmo plano do movimento.\n",
    "\n",
    "Uma pessoa segurava o celular na posição inicial e o soltava, enquanto outra manuseava o elástico e marcava a posição inicial, uma outra marcava a outra posição e uma outra filmava o experimento.\n",
    "\n",
    "O experimento foi realizado 5 vezes, para eliminar inconsistências.\n",
    "\n"
   ]
  },
  {
   "cell_type": "markdown",
   "metadata": {
    "colab_type": "text",
    "id": "cnZAwGjbhw6m"
   },
   "source": [
    "## Dados"
   ]
  },
  {
   "cell_type": "markdown",
   "metadata": {
    "colab_type": "text",
    "id": "lJvw_LTjhwVz"
   },
   "source": [
    "## Verificação"
   ]
  },
  {
   "cell_type": "markdown",
   "metadata": {
    "colab_type": "text",
    "id": "rN7-AEMznXjX"
   },
   "source": [
    "## Análise"
   ]
  },
  {
   "cell_type": "markdown",
   "metadata": {
    "colab_type": "text",
    "id": "zOiNXwQMnZTI"
   },
   "source": [
    "## Interpretação"
   ]
  },
  {
   "cell_type": "markdown",
   "metadata": {
    "colab_type": "text",
    "id": "Kn-iIOAadSoH"
   },
   "source": [
    "# Descida em uma Rampa"
   ]
  },
  {
   "cell_type": "markdown",
   "metadata": {
    "colab_type": "text",
    "id": "rbIboYW1nbwP"
   },
   "source": [
    "## Método\n",
    "\n",
    "Para esse experimento, utilizamos uma tábua que encontramos no laboratório. Elevamos uma de suas pontas criando uma rampa com o chão. Prendemos o celular a um carrinho encontrado no laboratório e o soltamos do ínicio da rampa. \n",
    "\n",
    "Marcamos a rampa em 3 posições, e duas pessoas marcavam o tempo que levava para a roda traseira do carrinho passava por cada uma das marcas.\n",
    "\n",
    "Esperamos 5 segundos antes de soltar o carrinho para termos uma base de comparação, e tentamos interromper o movimento logo após o carrinho chegar ao final da rampa.\n",
    "\n",
    "O experimento foi realizado 10 vezes para eliminar inconsistências."
   ]
  },
  {
   "cell_type": "markdown",
   "metadata": {
    "colab_type": "text",
    "id": "ZoX8BafWng3x"
   },
   "source": [
    "## Dados\n",
    "\n",
    "Medimos os dados utilizando o acelerometro do aplicativo"
   ]
  },
  {
   "cell_type": "markdown",
   "metadata": {
    "colab_type": "text",
    "id": "WQcAYk-DbknV"
   },
   "source": []
  },
  {
   "cell_type": "code",
   "execution_count": 1,
   "metadata": {
    "colab": {},
    "colab_type": "code",
    "id": "oT_PMDJqWVVj"
   },
   "outputs": [],
   "source": [
    "import pandas as pd\n",
    "import matplotlib.pyplot as plt\n",
    "import glob\n",
    "names = []\n",
    "for file in glob.glob(\"carrinho*.csv\"):\n",
    "        names.append(file)\n",
    "names.sort()\n",
    "#print(names)\n",
    "\n",
    "def calcula(i):\n",
    "    tbl = pd.read_csv(names[i])\n",
    "    tbl.head()\n",
    "    fig = plt.figure(figsize=(14, 3.5))\n",
    "    plt.subplot(131)\n",
    "    plt.xlabel('Time')\n",
    "    plt.ylabel(\"Aceleração\")\n",
    "    plt.plot(tbl['time'],tbl['ax'],label=\"ax\")\n",
    "    plt.plot(tbl['time'],tbl['ay'],label=\"ay\")\n",
    "    plt.plot(tbl['time'],tbl['az'],label=\"az\")\n",
    "    plt.title(\"Tentativa \"+str(i))\n",
    "    plt.grid(True)\n",
    "    plt.legend()\n",
    "    #print(i)\n",
    "    #print(range(len(names)))\n",
    "    if i+1 in range(len(names)): \n",
    "        i+=1\n",
    "    else:\n",
    "        plt.tight_layout()\n",
    "        plt.show()\n",
    "        return()\n",
    "    \n",
    "    #print(\"passou\")\n",
    "    tbl = pd.read_csv(names[i])\n",
    "    tbl.head()\n",
    "    plt.subplot(132)\n",
    "    plt.xlabel('Time')\n",
    "    plt.ylabel(\"Aceleração\")\n",
    "    plt.plot(tbl['time'],tbl['ax'],label=\"ax\")\n",
    "    plt.plot(tbl['time'],tbl['ay'],label=\"ay\")\n",
    "    plt.plot(tbl['time'],tbl['az'],label=\"az\")\n",
    "    plt.title(\"Tentativa \"+str(i))\n",
    "    plt.grid(True)\n",
    "    plt.legend()\n",
    "    if i+1 in range(len(names)): \n",
    "        i+=1\n",
    "    else:\n",
    "        plt.tight_layout()\n",
    "        plt.show()\n",
    "        return()\n",
    "    \n",
    "    tbl = pd.read_csv(names[i])\n",
    "    tbl.head()\n",
    "    plt.subplot(133)\n",
    "    plt.xlabel('Time')\n",
    "    plt.ylabel(\"Aceleração\")\n",
    "    plt.plot(tbl['time'],tbl['ax'],label=\"ax\")\n",
    "    plt.plot(tbl['time'],tbl['ay'],label=\"ay\")\n",
    "    plt.plot(tbl['time'],tbl['az'],label=\"az\")\n",
    "    plt.title(\"Tentativa \"+str(i))\n",
    "    plt.grid(True)\n",
    "    plt.legend()\n",
    "    plt.tight_layout()\n",
    "    plt.show()\n",
    "    i+=1\n",
    "    #print(i)\n",
    "    if i in range(len(names)):\n",
    "        calcula(i)\n"
   ]
  },
  {
   "cell_type": "code",
   "execution_count": null,
   "metadata": {
    "colab": {
     "base_uri": "https://localhost:8080/",
     "height": 289
    },
    "colab_type": "code",
    "executionInfo": {
     "elapsed": 723,
     "status": "error",
     "timestamp": 1560539161345,
     "user": {
      "displayName": "Caio Fontes de Castro",
      "photoUrl": "https://lh3.googleusercontent.com/-QCnqWy5Ztz0/AAAAAAAAAAI/AAAAAAAAVnw/l84EQqTNR8E/s64/photo.jpg",
      "userId": "13584607459304344399"
     },
     "user_tz": 180
    },
    "id": "T8feFtggYcvy",
    "outputId": "e578c3c6-ef2b-4dc7-c405-3fdef59463d0"
   },
   "outputs": [],
   "source": [
    "calcula(0)"
   ]
  },
  {
   "cell_type": "markdown",
   "metadata": {
    "colab_type": "text",
    "id": "w07VGrIdZB51"
   },
   "source": [
    "Analise desses dados"
   ]
  },
  {
   "cell_type": "markdown",
   "metadata": {
    "colab_type": "text",
    "id": "EbCBjSK8njHh"
   },
   "source": [
    "## Verificação"
   ]
  },
  {
   "cell_type": "markdown",
   "metadata": {
    "colab_type": "text",
    "id": "IJtj2EpyoH5t"
   },
   "source": [
    "## Análise"
   ]
  },
  {
   "cell_type": "markdown",
   "metadata": {
    "colab_type": "text",
    "id": "qF6DbSMWoKK6"
   },
   "source": [
    "## Interpretação"
   ]
  },
  {
   "cell_type": "markdown",
   "metadata": {
    "colab_type": "text",
    "id": "89MtuyiBdAvE"
   },
   "source": [
    "# Considerações Finais\n"
   ]
  },
  {
   "cell_type": "markdown",
   "metadata": {
    "colab_type": "text",
    "id": "BG2iovYeWbxx"
   },
   "source": [
    "## Crítica\n",
    "\n",
    "   Ao fim desse experimento, aprendemos parte do que é ser um cientista de dados. Aprendemos sobre os problemas numa colheta de dados, como se preocupar com o seu ambiente de forma que não afete os seus dados de maneira indesejada e, acima disso, como modelar o experimento para que a coleta de dados seja satisfatória.\n",
    "   \n",
    "   No entanto, tivemos problemas para modelar o experimento de forma satisfatória : o fato do experimento ter ocorrido numa ladeira de leve inclinação e usarmos apenas 3 checkpoints contribuíram para não termos dados o bastante para que o gráfico plotado se assemelhasse com uma parábola; Como não usamos um metronômo como forma de padronizar o movimento uniforme, ele não foi de fato uniforme e nossos movimentos apresentaram oscilação na velocidade. Ademais, o modelo matemático presume um sistema isolado, no qual não há atrito e os corpos se movimentam de forma regular. Como a pista na qual fizemos o experimento apresentava irregularidades, e não conseguimos padronizar totalmente o movimento (a forma como cada integrante sobe no skate, por exemplo) o modelo não se adequa ao experimento.\n",
    "\n",
    "   Compreendemos como utilizar ferramentas relativas a e-science como Jupyer, Pandas e matplotlib (ambas bibliotecas de Python voltadas a ciência de dados) e a interpretar resultados de um acelrômetro.\n",
    "    \n",
    "   O experimento foi muito interessante para uma introdução ao método cientifico de forma prática"
   ]
  },
  {
   "cell_type": "markdown",
   "metadata": {
    "colab_type": "text",
    "id": "DEGF31UhWbxz"
   },
   "source": [
    "## Log\n",
    "\n",
    " * Coleta de dados (Pêndulo) : 8 horas\n",
    " * Coleta de dados (Movimento Circular) : 3 horas\n",
    " * Coleta de dados (Rampa) : 3 horas\n",
    " * Análise de dados : 17 horas\n",
    " * Edição de vídeo : 15 horas"
   ]
  },
  {
   "cell_type": "markdown",
   "metadata": {
    "colab_type": "text",
    "id": "_zAtTqfmWbx1"
   },
   "source": [
    "## Contribuição dos autores\n",
    "\n",
    "Leandro Rodrigues editou o vídeo referente ao experimento, Thiago Teixeira e Caio fontes geraram os gráficos de MUV e MU (acelerômetro e dados manuais), Caio Fontes e Caio Andrade redigiram o relatório e executaram a análise dos dados.Caio Fontes, Caio Andrade e Thiago Teixeira foram o alvo do experimento do MU e MUV. Todos os autores se revezaram para gravar o vídeo do experimento. Todos os autores leram e aprovaram este relatório. Todos os autores se revezaram para anotar os dados dos cronometros manualmente."
   ]
  },
  {
   "cell_type": "markdown",
   "metadata": {
    "colab_type": "text",
    "id": "BLuMlc8AWbx2"
   },
   "source": [
    "## Link do vídeo\n",
    "\n",
    "https://youtu.be/_E6_dLCoTiY"
   ]
  }
 ],
 "metadata": {
  "colab": {
   "collapsed_sections": [
    "h7Z4JZ6OWbvS",
    "89MtuyiBdAvE"
   ],
   "name": "ep02.ipynb",
   "provenance": [],
   "version": "0.3.2"
  },
  "kernelspec": {
   "display_name": "Python 3",
   "language": "python",
   "name": "python3"
  },
  "language_info": {
   "codemirror_mode": {
    "name": "ipython",
    "version": 3
   },
   "file_extension": ".py",
   "mimetype": "text/x-python",
   "name": "python",
   "nbconvert_exporter": "python",
   "pygments_lexer": "ipython3",
   "version": "3.7.2"
  }
 },
 "nbformat": 4,
 "nbformat_minor": 2
}
