{
 "cells": [
  {
   "cell_type": "markdown",
   "metadata": {},
   "source": [
    "#    Sistemas dinâmicos,  implementação com vetor de estados e erro quadrático definido pela norma"
   ]
  },
  {
   "cell_type": "markdown",
   "metadata": {},
   "source": [
    "ODE do movimento:\n",
    "\n",
    "$$\\frac{dy}{dt} = v(t)$$\n",
    "$$\\frac{dv}{dt} = a(t)$$\n",
    "\n",
    "Euler:\n",
    "\n",
    "$$y(t+\\Delta t) = y(t) + \\Delta t v(t)$$\n",
    "$$v(t+\\Delta t) = v(t) + \\Delta t a(t)$$\n",
    "\n",
    "Implementação com vetor de estados em uma modelagem por sistemas dinâmicos:\n",
    "\n",
    "$$\\vec{S}(t+\\Delta t) = \\vec{S}(t) + \\Delta t \\vec{R}(t)$$\n",
    "\n",
    "em que $\\vec{S}$ é o vetor de estados e $\\vec{R}$ é o vetor de taxas de variação.\n"
   ]
  },
  {
   "cell_type": "markdown",
   "metadata": {},
   "source": [
    "# Exemplo"
   ]
  },
  {
   "cell_type": "markdown",
   "metadata": {},
   "source": [
    "Abaixo está a solução para $\\frac{d^{2}x}{dt^{2}} = 6t$ usando vetor de estados. Temos:\n",
    "\n",
    "$\\frac{d^{2}x}{dt^{2}} = 6t$\n",
    "\n",
    "ou\n",
    "\n",
    "$\\frac{dv}{dt} = a(t) = 6t$\n",
    "\n",
    "$\\frac{dx}{dt} = v(t)$\n",
    "\n",
    "e a formulação de Euler:\n",
    "\n",
    "$$x(t+\\Delta t) = x(t) + \\Delta t v(t)$$\n",
    "\n",
    "$$v(t+\\Delta t) = v(t) + \\Delta t 6t$$\n",
    "\n",
    "Podemos definir o vetor de estados e o vetor de taxas de variação:\n",
    "\n",
    "$$ \\vec{S} = [\\vec{S}[0], \\vec{S}[1], \\vec{S}[2]] = [x, v, t] $$\n",
    "\n",
    "$$ \\vec{R} = [\\vec{S}[1], 6 \\vec{S}[2], 1] $$\n"
   ]
  },
  {
   "cell_type": "code",
   "execution_count": 11,
   "metadata": {
    "collapsed": false
   },
   "outputs": [
    {
     "data": {
      "image/png": "[encoded data removed]",
      "text/plain": [
       "<matplotlib.figure.Figure at 0x118c2a278>"
      ]
     },
     "metadata": {},
     "output_type": "display_data"
    },
    {
     "data": {
      "image/png": "[encoded data removed]",
      "text/plain": [
       "<matplotlib.figure.Figure at 0x118cb1278>"
      ]
     },
     "metadata": {},
     "output_type": "display_data"
    }
   ],
   "source": [
    "# d2x / dt2 = 6t\n",
    "\n",
    "import math\n",
    "import numpy as np\n",
    "import matplotlib.pyplot as pyplot\n",
    "\n",
    "def initState(x,v,t):\n",
    "    S = np.array([x,v,t])\n",
    "    return(S)\n",
    "\n",
    "def nextState(S,dt):\n",
    "    Sn = S + dt * rate(S,dt)\n",
    "    return(Sn)\n",
    "\n",
    "def rate(S,dt):\n",
    "    R = np.array([S[1], 6*S[2], 1])\n",
    "    return(R)\n",
    "    \n",
    "\n",
    "def main():\n",
    "    t=-10\n",
    "    tf = 1\n",
    "    dt=0.1\n",
    "    x=-10.0\n",
    "    v=10\n",
    "    S = initState(x,v,t)\n",
    "    vve=[]\n",
    "    vxe=[]\n",
    "    while (S[2]<tf):\n",
    "        vve.append(S[1])\n",
    "        vxe.append(S[0])\n",
    "        S = nextState(S,dt)\n",
    "    \n",
    "\n",
    "    pyplot.figure(0)\n",
    "    pyplot.plot(vxe,label='Euler',linestyle='',marker='o') \n",
    "    pyplot.title('Position')\n",
    "    pyplot.show(block=False)\n",
    "\n",
    "    pyplot.figure(1)\n",
    "    pyplot.plot(vve,label='Euler',linestyle='',marker='o')\n",
    "    pyplot.title('Velocity')\n",
    "    pyplot.show()\n",
    "\n",
    "\n",
    "main() "
   ]
  },
  {
   "cell_type": "markdown",
   "metadata": {},
   "source": [
    "# Exercício\n",
    "\n",
    "Modifique o programa acima para que ele calcule também a solução analítica, o erro quadrático de aproximação do vetor de estados e plote a comparação. Supondo que $\\vec{S}$ seja o vetor calculado por Euler (como acima) e $\\vec{S_a}$ seja o vetor analítico, o erro quadrático pode ser definido como:\n",
    "\n",
    "$$ E(t) = \\| \\vec{S}(t) - \\vec{S_a}(t) \\|$$\n",
    "\n",
    "em que $\\| \\vec{S} \\|$ é a norma canônica de $\\vec{S}$\n"
   ]
  },
  {
   "cell_type": "code",
   "execution_count": null,
   "metadata": {
    "collapsed": true
   },
   "outputs": [],
   "source": []
  }
 ],
 "metadata": {
  "anaconda-cloud": {},
  "kernelspec": {
   "display_name": "Python [default]",
   "language": "python",
   "name": "python3"
  },
  "language_info": {
   "codemirror_mode": {
    "name": "ipython",
    "version": 3
   },
   "file_extension": ".py",
   "mimetype": "text/x-python",
   "name": "python",
   "nbconvert_exporter": "python",
   "pygments_lexer": "ipython3",
   "version": "3.5.2"
  }
 },
 "nbformat": 4,
 "nbformat_minor": 1
}
